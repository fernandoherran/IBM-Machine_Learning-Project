{
 "cells": [
  {
   "cell_type": "markdown",
   "metadata": {},
   "source": [
    "# Question 4"
   ]
  },
  {
   "cell_type": "markdown",
   "metadata": {},
   "source": [
    "In this exercise, you will use a feature-engineered dataset to determine whether a predictive model can be built to predict the complaint (of the Complaint Type that you decided to focus on in Week 2) by using past data.\n",
    "\n",
    "Using the best model, you need to predict the number of future complaints (of the Complaint Type that you decided to focus on in Question 1).\n",
    "\n",
    "Add your answer to this question along with code and comments in a separate notebook. Upload the notebook in the subsection called \"Question 4 - Can a predictive model be built for future prediction of the possibility of Complaints of the specific type that you identified in response to Question 1?\" in the section \"Submit your work and Review your Peer's work\" in the module \"Submit Your Work and Grade Your Peers\"."
   ]
  },
  {
   "cell_type": "markdown",
   "metadata": {},
   "source": [
    "**STEP 1 - IMPORT REQUIRED LIBRARIES**"
   ]
  },
  {
   "cell_type": "code",
   "execution_count": 1,
   "metadata": {},
   "outputs": [],
   "source": [
    "import pandas as pd\n",
    "import numpy as np\n",
    "\n",
    "import matplotlib.pyplot as plt\n",
    "%matplotlib inline\n",
    "\n",
    "from datetime import datetime"
   ]
  },
  {
   "cell_type": "markdown",
   "metadata": {},
   "source": [
    "**STEP 2 - LOAD FILES**"
   ]
  },
  {
   "cell_type": "code",
   "execution_count": 2,
   "metadata": {},
   "outputs": [],
   "source": [
    "# Read 311 dataset\n",
    "nyc_data_pre = pd.read_csv(\"nyc_data_pre.csv\")"
   ]
  },
  {
   "cell_type": "code",
   "execution_count": 3,
   "metadata": {},
   "outputs": [
    {
     "name": "stderr",
     "output_type": "stream",
     "text": [
      "/Users/nando/opt/anaconda3/lib/python3.7/site-packages/IPython/core/interactiveshell.py:3063: DtypeWarning: Columns (19,20,22,23,64,65,80) have mixed types.Specify dtype option on import or set low_memory=False.\n",
      "  interactivity=interactivity, compiler=compiler, result=result)\n",
      "/Users/nando/opt/anaconda3/lib/python3.7/site-packages/IPython/core/interactiveshell.py:3063: DtypeWarning: Columns (19,20,22,23,24,25,26,64,65,80) have mixed types.Specify dtype option on import or set low_memory=False.\n",
      "  interactivity=interactivity, compiler=compiler, result=result)\n",
      "/Users/nando/opt/anaconda3/lib/python3.7/site-packages/IPython/core/interactiveshell.py:3063: DtypeWarning: Columns (20,23,24,26,64) have mixed types.Specify dtype option on import or set low_memory=False.\n",
      "  interactivity=interactivity, compiler=compiler, result=result)\n",
      "/Users/nando/opt/anaconda3/lib/python3.7/site-packages/IPython/core/interactiveshell.py:3063: DtypeWarning: Columns (19,20,22,23,64,65,77) have mixed types.Specify dtype option on import or set low_memory=False.\n",
      "  interactivity=interactivity, compiler=compiler, result=result)\n",
      "/Users/nando/opt/anaconda3/lib/python3.7/site-packages/IPython/core/interactiveshell.py:3063: DtypeWarning: Columns (19,20,22,23,24,64,65,80) have mixed types.Specify dtype option on import or set low_memory=False.\n",
      "  interactivity=interactivity, compiler=compiler, result=result)\n"
     ]
    }
   ],
   "source": [
    "# Read PLUTO dataset for the 5 boroughs\n",
    "pluto_BX = pd.read_csv(\"PLUTO_for_WEB/BX_18v1.csv\")\n",
    "pluto_BK = pd.read_csv(\"PLUTO_for_WEB/BK_18v1.csv\")\n",
    "pluto_MN = pd.read_csv(\"PLUTO_for_WEB/MN_18v1.csv\")\n",
    "pluto_QN = pd.read_csv(\"PLUTO_for_WEB/QN_18v1.csv\")\n",
    "pluto_SI = pd.read_csv(\"PLUTO_for_WEB/SI_18v1.csv\")"
   ]
  },
  {
   "cell_type": "markdown",
   "metadata": {},
   "source": [
    "**STEP 3 - DATA PRE-PROCESSING**"
   ]
  },
  {
   "cell_type": "markdown",
   "metadata": {},
   "source": [
    "**311 DATASET**"
   ]
  },
  {
   "cell_type": "code",
   "execution_count": 4,
   "metadata": {},
   "outputs": [],
   "source": [
    "# Rename address column for 311 dataset\n",
    "nyc_data_pre.rename(columns={\"Incident Address\":\"Address\"},inplace=True)"
   ]
  },
  {
   "cell_type": "code",
   "execution_count": 5,
   "metadata": {},
   "outputs": [
    {
     "name": "stdout",
     "output_type": "stream",
     "text": [
      "Initial 311 dataset shape before removing the 2010/2020 rows: (5119327, 16)\n",
      "New 311 dataset shape after removing the 2010/2020 rows: (5081581, 16)\n"
     ]
    }
   ],
   "source": [
    "# Drop rows for years 2010 and 2020, as they are incomplete\n",
    "print(\"Initial 311 dataset shape before removing the 2010/2020 rows:\",nyc_data_pre.shape)\n",
    "nyc_data_pre.drop(nyc_data_pre[(nyc_data_pre[\"Created Year\"] == 2010) | (nyc_data_pre[\"Created Year\"] == 2020)].index, inplace=True)\n",
    "\n",
    "# Reset index values with the new rows\n",
    "nyc_data_pre.reset_index(drop=True, inplace=True)\n",
    "print(\"New 311 dataset shape after removing the 2010/2020 rows:\",nyc_data_pre.shape)"
   ]
  },
  {
   "cell_type": "code",
   "execution_count": null,
   "metadata": {},
   "outputs": [],
   "source": []
  },
  {
   "cell_type": "code",
   "execution_count": null,
   "metadata": {},
   "outputs": [],
   "source": []
  },
  {
   "cell_type": "code",
   "execution_count": null,
   "metadata": {},
   "outputs": [],
   "source": []
  },
  {
   "cell_type": "code",
   "execution_count": null,
   "metadata": {},
   "outputs": [],
   "source": []
  },
  {
   "cell_type": "markdown",
   "metadata": {},
   "source": [
    "**PLUTO DATASET**"
   ]
  },
  {
   "cell_type": "code",
   "execution_count": 6,
   "metadata": {},
   "outputs": [],
   "source": [
    "# Merge the PLUTO datasets\n",
    "df_pluto = pd.concat([pluto_BX, pluto_BK, pluto_MN, pluto_QN, pluto_SI])"
   ]
  },
  {
   "cell_type": "code",
   "execution_count": 7,
   "metadata": {},
   "outputs": [],
   "source": [
    "# Select only the important columns for PLUTO dataset\n",
    "df_pluto = df_pluto[['Address','BldgDepth',\"FacilFAR\",'BuiltFAR','NumFloors','ResidFAR']]"
   ]
  },
  {
   "cell_type": "code",
   "execution_count": 8,
   "metadata": {},
   "outputs": [
    {
     "name": "stdout",
     "output_type": "stream",
     "text": [
      "Initial PLUTO dataset shape before removing the duplicate rows: (859212, 6)\n",
      "New PLUTO dataset shape after removing the duplicate rows: (828644, 6)\n"
     ]
    }
   ],
   "source": [
    "# Remove duplicate values\n",
    "print(\"Initial PLUTO dataset shape before removing the duplicate rows:\",df_pluto.shape)\n",
    "df_pluto.drop_duplicates(subset=\"Address\", keep='first', inplace=True)\n",
    "print(\"New PLUTO dataset shape after removing the duplicate rows:\",df_pluto.shape)"
   ]
  },
  {
   "cell_type": "markdown",
   "metadata": {},
   "source": [
    "**STEP 4 - DATA ANALYSIS**  \n",
    "**Can a predictive model be built for future prediction of the possibility of complaints of the specific type that you identified in response to Question 1??**"
   ]
  },
  {
   "cell_type": "code",
   "execution_count": 9,
   "metadata": {},
   "outputs": [],
   "source": [
    "# Get dataframe from the 311 dataset for heating complaints\n",
    "df_heating = nyc_data_pre.loc[(nyc_data_pre['Complaint Type'] == \"HEATING\")]\n",
    "df_heating = df_heating.reset_index(drop=True)"
   ]
  },
  {
   "cell_type": "code",
   "execution_count": 10,
   "metadata": {},
   "outputs": [
    {
     "data": {
      "text/html": [
       "<div>\n",
       "<style scoped>\n",
       "    .dataframe tbody tr th:only-of-type {\n",
       "        vertical-align: middle;\n",
       "    }\n",
       "\n",
       "    .dataframe tbody tr th {\n",
       "        vertical-align: top;\n",
       "    }\n",
       "\n",
       "    .dataframe thead th {\n",
       "        text-align: right;\n",
       "    }\n",
       "</style>\n",
       "<table border=\"1\" class=\"dataframe\">\n",
       "  <thead>\n",
       "    <tr style=\"text-align: right;\">\n",
       "      <th></th>\n",
       "      <th>Created Year</th>\n",
       "      <th>Unique Key</th>\n",
       "    </tr>\n",
       "  </thead>\n",
       "  <tbody>\n",
       "    <tr>\n",
       "      <th>0</th>\n",
       "      <td>2011</td>\n",
       "      <td>121179</td>\n",
       "    </tr>\n",
       "    <tr>\n",
       "      <th>1</th>\n",
       "      <td>2012</td>\n",
       "      <td>182188</td>\n",
       "    </tr>\n",
       "    <tr>\n",
       "      <th>2</th>\n",
       "      <td>2013</td>\n",
       "      <td>192266</td>\n",
       "    </tr>\n",
       "    <tr>\n",
       "      <th>3</th>\n",
       "      <td>2014</td>\n",
       "      <td>230280</td>\n",
       "    </tr>\n",
       "    <tr>\n",
       "      <th>4</th>\n",
       "      <td>2015</td>\n",
       "      <td>225637</td>\n",
       "    </tr>\n",
       "    <tr>\n",
       "      <th>5</th>\n",
       "      <td>2016</td>\n",
       "      <td>227893</td>\n",
       "    </tr>\n",
       "    <tr>\n",
       "      <th>6</th>\n",
       "      <td>2017</td>\n",
       "      <td>213477</td>\n",
       "    </tr>\n",
       "    <tr>\n",
       "      <th>7</th>\n",
       "      <td>2018</td>\n",
       "      <td>216998</td>\n",
       "    </tr>\n",
       "    <tr>\n",
       "      <th>8</th>\n",
       "      <td>2019</td>\n",
       "      <td>211962</td>\n",
       "    </tr>\n",
       "  </tbody>\n",
       "</table>\n",
       "</div>"
      ],
      "text/plain": [
       "   Created Year  Unique Key\n",
       "0          2011      121179\n",
       "1          2012      182188\n",
       "2          2013      192266\n",
       "3          2014      230280\n",
       "4          2015      225637\n",
       "5          2016      227893\n",
       "6          2017      213477\n",
       "7          2018      216998\n",
       "8          2019      211962"
      ]
     },
     "execution_count": 10,
     "metadata": {},
     "output_type": "execute_result"
    }
   ],
   "source": [
    "# Create dataframe df_year to group the number of heating complaints by each year\n",
    "df_year = df_heating.groupby(df_heating[\"Created Year\"]).count()[\"Unique Key\"].to_frame().reset_index()\n",
    "df_year"
   ]
  },
  {
   "cell_type": "code",
   "execution_count": 11,
   "metadata": {},
   "outputs": [
    {
     "data": {
      "image/png": "[encoded data removed]",
      "text/plain": [
       "<Figure size 720x432 with 1 Axes>"
      ]
     },
     "metadata": {
      "needs_background": "light"
     },
     "output_type": "display_data"
    }
   ],
   "source": [
    "# Visualize the heating complaints by year\n",
    "df_year.plot(x=\"Created Year\",\n",
    "             y=\"Unique Key\",\n",
    "             figsize=(10,6),\n",
    "             fontsize=12,\n",
    "             color='steelblue',\n",
    "             legend=False)\n",
    "\n",
    "plt.title(\"Number of Heating complaints by year\",fontsize=16)\n",
    "plt.ylabel(\"Number of complaints\",fontsize=14)\n",
    "plt.xlabel(\"Year\",fontsize=14)\n",
    "\n",
    "plt.show()"
   ]
  },
  {
   "cell_type": "code",
   "execution_count": 12,
   "metadata": {},
   "outputs": [
    {
     "data": {
      "text/plain": [
       "Created Date\n",
       "2011-01-31       10\n",
       "2011-02-28        8\n",
       "2011-03-31    17267\n",
       "2011-04-30    11783\n",
       "2011-05-31     4353\n",
       "Freq: M, dtype: int64"
      ]
     },
     "execution_count": 12,
     "metadata": {},
     "output_type": "execute_result"
    }
   ],
   "source": [
    "# Create dataframe df_time to group the number of heating complaints during the time\n",
    "df_heating['Created Date'] = pd.to_datetime(df_heating['Created Date'])\n",
    "df_time = pd.Series(1, index = df_heating['Created Date'])\n",
    "df_time = df_time.resample('M').sum()\n",
    "df_time.head()"
   ]
  },
  {
   "cell_type": "code",
   "execution_count": 13,
   "metadata": {},
   "outputs": [
    {
     "data": {
      "image/png": "[encoded data removed]",
      "text/plain": [
       "<Figure size 720x432 with 1 Axes>"
      ]
     },
     "metadata": {
      "needs_background": "light"
     },
     "output_type": "display_data"
    }
   ],
   "source": [
    "# Visualize the heating complaints during the time\n",
    "df_time.plot(kind=\"line\",\n",
    "             figsize=(10,6),\n",
    "             fontsize=12,\n",
    "             color='steelblue',\n",
    "             legend=False)\n",
    "\n",
    "plt.title(\"Number of Heating complaints by time\",fontsize=16)\n",
    "plt.ylabel(\"Number of complaints\",fontsize=14)\n",
    "plt.xlabel(\"Year\",fontsize=14)\n",
    "\n",
    "plt.show()"
   ]
  },
  {
   "cell_type": "markdown",
   "metadata": {},
   "source": [
    "**MODELLING VIA 1) SIMPLE LINEAR REGRESSION and 2) SIMPLE POLYNOMIAL REGRESSION**"
   ]
  },
  {
   "cell_type": "code",
   "execution_count": 14,
   "metadata": {},
   "outputs": [],
   "source": [
    "# Define x & y variables\n",
    "x = df_year[[\"Created Year\"]]\n",
    "y = df_year[\"Unique Key\"]"
   ]
  },
  {
   "cell_type": "code",
   "execution_count": 15,
   "metadata": {},
   "outputs": [],
   "source": [
    "# Define x_predicr array used to predict the y values\n",
    "x_predict = np.array(range(2011,2024,1))\n",
    "x_predict = x_predict.reshape(-1, 1)"
   ]
  },
  {
   "cell_type": "code",
   "execution_count": 16,
   "metadata": {},
   "outputs": [
    {
     "data": {
      "text/plain": [
       "PolynomialFeatures(degree=3, include_bias=True, interaction_only=False,\n",
       "                   order='C')"
      ]
     },
     "execution_count": 16,
     "metadata": {},
     "output_type": "execute_result"
    }
   ],
   "source": [
    "# Create Simple Linear Regression Model\n",
    "from sklearn.linear_model import LinearRegression \n",
    "linear_reg = LinearRegression()\n",
    "\n",
    "# Create Simple Polynomial Regression Model of third order\n",
    "from sklearn.preprocessing import PolynomialFeatures \n",
    "  \n",
    "poly = PolynomialFeatures(degree = 3) \n",
    "X_poly = poly.fit_transform(x) \n",
    "  \n",
    "poly.fit(X_poly, y) "
   ]
  },
  {
   "cell_type": "code",
   "execution_count": 17,
   "metadata": {},
   "outputs": [
    {
     "data": {
      "text/plain": [
       "LinearRegression(copy_X=True, fit_intercept=True, n_jobs=None, normalize=False)"
      ]
     },
     "execution_count": 17,
     "metadata": {},
     "output_type": "execute_result"
    }
   ],
   "source": [
    "# Fit Simple Linear Regression Model\n",
    "linear_reg.fit(x,y)\n",
    "\n",
    "# Fit Simple Polynomial Regression Model\n",
    "lin_poly = LinearRegression() \n",
    "lin_poly.fit(X_poly, y) "
   ]
  },
  {
   "cell_type": "code",
   "execution_count": 18,
   "metadata": {},
   "outputs": [],
   "source": [
    "# Predict y values using Simple Linear Regression Model\n",
    "Yhat_Linear = linear_reg.predict(x_predict)\n",
    "\n",
    "# Predict y values using Simple Polynomial Regression Model\n",
    "Yhat_Polynomial = lin_poly.predict(poly.fit_transform(x_predict))"
   ]
  },
  {
   "cell_type": "code",
   "execution_count": 19,
   "metadata": {},
   "outputs": [
    {
     "name": "stdout",
     "output_type": "stream",
     "text": [
      "The expected number of complaints for 2020 using Linear Regression is: [244730.86111111]\n",
      "The expected number of complaints for 2020 using Polynomial Regression is: [219661.49804688]\n"
     ]
    },
    {
     "data": {
      "image/png": "[encoded data removed]",
      "text/plain": [
       "<Figure size 720x432 with 1 Axes>"
      ]
     },
     "metadata": {
      "needs_background": "light"
     },
     "output_type": "display_data"
    }
   ],
   "source": [
    "# Visualize the Simple Polynomial Regression Model\n",
    "fig, ax = plt.subplots(figsize=(10, 6))\n",
    "\n",
    "ax.scatter(x, y, c=\"black\", alpha=1,label='Data')\n",
    "ax.plot(x_predict,Yhat_Linear,'r',label='Predicted Linear Model')\n",
    "ax.plot(x_predict,Yhat_Polynomial,'g',label='Predicted Polynomial Model')\n",
    "\n",
    "plt.xticks(fontsize=12)\n",
    "plt.yticks(fontsize=12)\n",
    "\n",
    "plt.title(\"Number of Heating complaints by year\",fontsize=16)\n",
    "plt.ylabel(\"Number of complaints\",fontsize=14)\n",
    "plt.xlabel(\"Year\",fontsize=14)\n",
    "plt.legend()\n",
    "\n",
    "print(\"The expected number of complaints for 2020 using Linear Regression is:\",linear_reg.predict([[2020]]))\n",
    "print(\"The expected number of complaints for 2020 using Polynomial Regression is:\",lin_poly.predict(poly.fit_transform([[2020]])))\n",
    "\n",
    "plt.show()"
   ]
  },
  {
   "cell_type": "markdown",
   "metadata": {},
   "source": [
    "**CREATE MODEL TO PREDICT THE POSSIBILITY OF HEATING COMPLAINTS BASED ON HOUSE CHARACTERISTICS**"
   ]
  },
  {
   "cell_type": "markdown",
   "metadata": {},
   "source": [
    "**As we have seen in Question 3, the next house characteristics are the most related to heating complaints:**  \n",
    "\n",
    "1 - BldgDepth  \n",
    "2 - BuiltFAR   \n",
    "3 - FacilFAR  \n",
    "4 - NumFloors  \n",
    "5 - ResidFAR "
   ]
  },
  {
   "cell_type": "code",
   "execution_count": null,
   "metadata": {},
   "outputs": [],
   "source": [
    "#\n",
    "# PRE-ANALYSIS\n",
    "#"
   ]
  },
  {
   "cell_type": "code",
   "execution_count": 20,
   "metadata": {},
   "outputs": [
    {
     "data": {
      "text/html": [
       "<div>\n",
       "<style scoped>\n",
       "    .dataframe tbody tr th:only-of-type {\n",
       "        vertical-align: middle;\n",
       "    }\n",
       "\n",
       "    .dataframe tbody tr th {\n",
       "        vertical-align: top;\n",
       "    }\n",
       "\n",
       "    .dataframe thead th {\n",
       "        text-align: right;\n",
       "    }\n",
       "</style>\n",
       "<table border=\"1\" class=\"dataframe\">\n",
       "  <thead>\n",
       "    <tr style=\"text-align: right;\">\n",
       "      <th></th>\n",
       "      <th>Complaint Type</th>\n",
       "      <th>Address</th>\n",
       "    </tr>\n",
       "  </thead>\n",
       "  <tbody>\n",
       "    <tr>\n",
       "      <th>0</th>\n",
       "      <td>PAINT/PLASTER</td>\n",
       "      <td>612 EAST  180 STREET</td>\n",
       "    </tr>\n",
       "    <tr>\n",
       "      <th>1</th>\n",
       "      <td>HEATING</td>\n",
       "      <td>2196 FREDERICK DOUGLASS BOULEVARD</td>\n",
       "    </tr>\n",
       "    <tr>\n",
       "      <th>2</th>\n",
       "      <td>HEATING</td>\n",
       "      <td>310 NORTH BURGHER AVENUE</td>\n",
       "    </tr>\n",
       "    <tr>\n",
       "      <th>3</th>\n",
       "      <td>ELECTRIC</td>\n",
       "      <td>605 WEST  142 STREET</td>\n",
       "    </tr>\n",
       "    <tr>\n",
       "      <th>4</th>\n",
       "      <td>DOOR/WINDOW</td>\n",
       "      <td>233 WEST  115 STREET</td>\n",
       "    </tr>\n",
       "  </tbody>\n",
       "</table>\n",
       "</div>"
      ],
      "text/plain": [
       "  Complaint Type                            Address\n",
       "0  PAINT/PLASTER               612 EAST  180 STREET\n",
       "1        HEATING  2196 FREDERICK DOUGLASS BOULEVARD\n",
       "2        HEATING           310 NORTH BURGHER AVENUE\n",
       "3       ELECTRIC               605 WEST  142 STREET\n",
       "4    DOOR/WINDOW               233 WEST  115 STREET"
      ]
     },
     "execution_count": 20,
     "metadata": {},
     "output_type": "execute_result"
    }
   ],
   "source": [
    "# Create a new dataframe (df_model) which contains the columns \"Complaint Type\" and \"Address\" fromt the 311 dataset\n",
    "df_model = nyc_data_pre[[\"Complaint Type\",\"Address\"]]\n",
    "df_model.head()"
   ]
  },
  {
   "cell_type": "code",
   "execution_count": 22,
   "metadata": {},
   "outputs": [
    {
     "name": "stderr",
     "output_type": "stream",
     "text": [
      "/Users/nando/opt/anaconda3/lib/python3.7/site-packages/ipykernel_launcher.py:3: SettingWithCopyWarning: \n",
      "A value is trying to be set on a copy of a slice from a DataFrame.\n",
      "Try using .loc[row_indexer,col_indexer] = value instead\n",
      "\n",
      "See the caveats in the documentation: https://pandas.pydata.org/pandas-docs/stable/user_guide/indexing.html#returning-a-view-versus-a-copy\n",
      "  This is separate from the ipykernel package so we can avoid doing imports until\n",
      "/Users/nando/opt/anaconda3/lib/python3.7/site-packages/ipykernel_launcher.py:4: SettingWithCopyWarning: \n",
      "A value is trying to be set on a copy of a slice from a DataFrame.\n",
      "Try using .loc[row_indexer,col_indexer] = value instead\n",
      "\n",
      "See the caveats in the documentation: https://pandas.pydata.org/pandas-docs/stable/user_guide/indexing.html#returning-a-view-versus-a-copy\n",
      "  after removing the cwd from sys.path.\n"
     ]
    },
    {
     "data": {
      "text/html": [
       "<div>\n",
       "<style scoped>\n",
       "    .dataframe tbody tr th:only-of-type {\n",
       "        vertical-align: middle;\n",
       "    }\n",
       "\n",
       "    .dataframe tbody tr th {\n",
       "        vertical-align: top;\n",
       "    }\n",
       "\n",
       "    .dataframe thead th {\n",
       "        text-align: right;\n",
       "    }\n",
       "</style>\n",
       "<table border=\"1\" class=\"dataframe\">\n",
       "  <thead>\n",
       "    <tr style=\"text-align: right;\">\n",
       "      <th></th>\n",
       "      <th>Complaint Type</th>\n",
       "      <th>Address</th>\n",
       "    </tr>\n",
       "  </thead>\n",
       "  <tbody>\n",
       "    <tr>\n",
       "      <th>0</th>\n",
       "      <td>NO</td>\n",
       "      <td>612 EAST  180 STREET</td>\n",
       "    </tr>\n",
       "    <tr>\n",
       "      <th>1</th>\n",
       "      <td>YES</td>\n",
       "      <td>2196 FREDERICK DOUGLASS BOULEVARD</td>\n",
       "    </tr>\n",
       "    <tr>\n",
       "      <th>2</th>\n",
       "      <td>YES</td>\n",
       "      <td>310 NORTH BURGHER AVENUE</td>\n",
       "    </tr>\n",
       "    <tr>\n",
       "      <th>3</th>\n",
       "      <td>NO</td>\n",
       "      <td>605 WEST  142 STREET</td>\n",
       "    </tr>\n",
       "    <tr>\n",
       "      <th>4</th>\n",
       "      <td>NO</td>\n",
       "      <td>233 WEST  115 STREET</td>\n",
       "    </tr>\n",
       "  </tbody>\n",
       "</table>\n",
       "</div>"
      ],
      "text/plain": [
       "  Complaint Type                            Address\n",
       "0             NO               612 EAST  180 STREET\n",
       "1            YES  2196 FREDERICK DOUGLASS BOULEVARD\n",
       "2            YES           310 NORTH BURGHER AVENUE\n",
       "3             NO               605 WEST  142 STREET\n",
       "4             NO               233 WEST  115 STREET"
      ]
     },
     "execution_count": 22,
     "metadata": {},
     "output_type": "execute_result"
    }
   ],
   "source": [
    "# Convert \"Complaint Type\" column from df_model to binary: \n",
    "# YES for Heating and NO for the rest of complaints\n",
    "df_model[\"Complaint Type\"] = np.where(df_model[\"Complaint Type\"]=='HEATING','YES',df_model[\"Complaint Type\"])\n",
    "df_model[\"Complaint Type\"] = np.where(df_model[\"Complaint Type\"]!='YES','NO',df_model[\"Complaint Type\"])\n",
    "df_model.head()"
   ]
  },
  {
   "cell_type": "code",
   "execution_count": 24,
   "metadata": {},
   "outputs": [
    {
     "data": {
      "text/html": [
       "<div>\n",
       "<style scoped>\n",
       "    .dataframe tbody tr th:only-of-type {\n",
       "        vertical-align: middle;\n",
       "    }\n",
       "\n",
       "    .dataframe tbody tr th {\n",
       "        vertical-align: top;\n",
       "    }\n",
       "\n",
       "    .dataframe thead th {\n",
       "        text-align: right;\n",
       "    }\n",
       "</style>\n",
       "<table border=\"1\" class=\"dataframe\">\n",
       "  <thead>\n",
       "    <tr style=\"text-align: right;\">\n",
       "      <th></th>\n",
       "      <th>Complaint Type</th>\n",
       "      <th>Address</th>\n",
       "      <th>BldgDepth</th>\n",
       "      <th>FacilFAR</th>\n",
       "      <th>BuiltFAR</th>\n",
       "      <th>NumFloors</th>\n",
       "      <th>ResidFAR</th>\n",
       "    </tr>\n",
       "  </thead>\n",
       "  <tbody>\n",
       "    <tr>\n",
       "      <th>0</th>\n",
       "      <td>YES</td>\n",
       "      <td>310 NORTH BURGHER AVENUE</td>\n",
       "      <td>48.0</td>\n",
       "      <td>1.0</td>\n",
       "      <td>0.89</td>\n",
       "      <td>2.5</td>\n",
       "      <td>0.60</td>\n",
       "    </tr>\n",
       "    <tr>\n",
       "      <th>1</th>\n",
       "      <td>NO</td>\n",
       "      <td>91-21 195 STREET</td>\n",
       "      <td>110.0</td>\n",
       "      <td>2.0</td>\n",
       "      <td>2.27</td>\n",
       "      <td>4.0</td>\n",
       "      <td>1.25</td>\n",
       "    </tr>\n",
       "    <tr>\n",
       "      <th>2</th>\n",
       "      <td>NO</td>\n",
       "      <td>91-21 195 STREET</td>\n",
       "      <td>110.0</td>\n",
       "      <td>2.0</td>\n",
       "      <td>2.27</td>\n",
       "      <td>4.0</td>\n",
       "      <td>1.25</td>\n",
       "    </tr>\n",
       "    <tr>\n",
       "      <th>3</th>\n",
       "      <td>YES</td>\n",
       "      <td>91-21 195 STREET</td>\n",
       "      <td>110.0</td>\n",
       "      <td>2.0</td>\n",
       "      <td>2.27</td>\n",
       "      <td>4.0</td>\n",
       "      <td>1.25</td>\n",
       "    </tr>\n",
       "    <tr>\n",
       "      <th>4</th>\n",
       "      <td>YES</td>\n",
       "      <td>91-21 195 STREET</td>\n",
       "      <td>110.0</td>\n",
       "      <td>2.0</td>\n",
       "      <td>2.27</td>\n",
       "      <td>4.0</td>\n",
       "      <td>1.25</td>\n",
       "    </tr>\n",
       "  </tbody>\n",
       "</table>\n",
       "</div>"
      ],
      "text/plain": [
       "  Complaint Type                   Address  BldgDepth  FacilFAR  BuiltFAR  \\\n",
       "0            YES  310 NORTH BURGHER AVENUE       48.0       1.0      0.89   \n",
       "1             NO          91-21 195 STREET      110.0       2.0      2.27   \n",
       "2             NO          91-21 195 STREET      110.0       2.0      2.27   \n",
       "3            YES          91-21 195 STREET      110.0       2.0      2.27   \n",
       "4            YES          91-21 195 STREET      110.0       2.0      2.27   \n",
       "\n",
       "   NumFloors  ResidFAR  \n",
       "0        2.5      0.60  \n",
       "1        4.0      1.25  \n",
       "2        4.0      1.25  \n",
       "3        4.0      1.25  \n",
       "4        4.0      1.25  "
      ]
     },
     "execution_count": 24,
     "metadata": {},
     "output_type": "execute_result"
    }
   ],
   "source": [
    "# Now we merge the df_model and the PLUTO dataset (df_pluto)\n",
    "df_model = pd.merge(df_model, df_pluto, on='Address', how='inner')\n",
    "df_model.head()"
   ]
  },
  {
   "cell_type": "code",
   "execution_count": null,
   "metadata": {},
   "outputs": [],
   "source": []
  },
  {
   "cell_type": "code",
   "execution_count": null,
   "metadata": {},
   "outputs": [],
   "source": [
    "\n",
    "\n",
    "\n",
    "# Drop duplicate values\n",
    "print(\"Initial shape before removing the rows:\",df_model.shape)\n",
    "df_model.drop_duplicates(keep='first', inplace=True)\n",
    "df_model.reset_index(drop=True, inplace=True)\n",
    "print(\"New shape after removing the rows:\",df_model.shape)\n",
    "\n",
    "\n",
    "\n"
   ]
  },
  {
   "cell_type": "code",
   "execution_count": null,
   "metadata": {},
   "outputs": [],
   "source": [
    "#\n",
    "# DEFINE MODEL\n",
    "#"
   ]
  },
  {
   "cell_type": "code",
   "execution_count": 28,
   "metadata": {
    "scrolled": false
   },
   "outputs": [],
   "source": [
    "# Define x & y variables\n",
    "model_x = df_model[[\"BldgDepth\",\"FacilFAR\",\"BuiltFAR\",\"NumFloors\",\"ResidFAR\"]]\n",
    "model_y = df_model[\"Complaint Type\"]"
   ]
  },
  {
   "cell_type": "code",
   "execution_count": 29,
   "metadata": {},
   "outputs": [],
   "source": [
    "# Create training and testing dataset: 70% of the data will be used for training and 30% for testing\n",
    "from sklearn.model_selection import train_test_split\n",
    "x_trainset, x_testset, y_trainset, y_testset = train_test_split(model_x, model_y, test_size=0.3, random_state=3)"
   ]
  },
  {
   "cell_type": "code",
   "execution_count": 40,
   "metadata": {},
   "outputs": [],
   "source": [
    "# Define LogisticRegression model\n",
    "from sklearn.linear_model import LogisticRegression\n",
    "LR = LogisticRegression(solver=\"liblinear\")"
   ]
  },
  {
   "cell_type": "code",
   "execution_count": 41,
   "metadata": {},
   "outputs": [
    {
     "data": {
      "text/plain": [
       "LogisticRegression(C=1.0, class_weight=None, dual=False, fit_intercept=True,\n",
       "                   intercept_scaling=1, l1_ratio=None, max_iter=100,\n",
       "                   multi_class='auto', n_jobs=None, penalty='l2',\n",
       "                   random_state=None, solver='liblinear', tol=0.0001, verbose=0,\n",
       "                   warm_start=False)"
      ]
     },
     "execution_count": 41,
     "metadata": {},
     "output_type": "execute_result"
    }
   ],
   "source": [
    "# Fit the LogisticRegression model\n",
    "LR.fit(x_trainset,y_trainset)"
   ]
  },
  {
   "cell_type": "code",
   "execution_count": 42,
   "metadata": {},
   "outputs": [],
   "source": [
    "# Calculate the predicted values using the testdata\n",
    "model_y_hat = LR.predict(x_testset)"
   ]
  },
  {
   "cell_type": "code",
   "execution_count": 43,
   "metadata": {},
   "outputs": [],
   "source": [
    "# Calulate the predicted probability using the testdata\n",
    "model_y_hat_prob = LR.predict_proba(x_testset)"
   ]
  },
  {
   "cell_type": "code",
   "execution_count": null,
   "metadata": {},
   "outputs": [],
   "source": [
    "#\n",
    "# MODEL EVALUATION\n",
    "#"
   ]
  },
  {
   "cell_type": "code",
   "execution_count": 34,
   "metadata": {},
   "outputs": [
    {
     "name": "stderr",
     "output_type": "stream",
     "text": [
      "/Users/nando/opt/anaconda3/lib/python3.7/site-packages/sklearn/metrics/_classification.py:664: FutureWarning: jaccard_similarity_score has been deprecated and replaced with jaccard_score. It will be removed in version 0.23. This implementation has surprising behavior for binary and multiclass classification tasks.\n",
      "  FutureWarning)\n"
     ]
    },
    {
     "name": "stdout",
     "output_type": "stream",
     "text": [
      "Logistic Regression's Jaccard score:  0.6453163486558645\n"
     ]
    }
   ],
   "source": [
    "from sklearn.metrics import jaccard_similarity_score\n",
    "print(\"Logistic Regression's Jaccard score: \",jaccard_similarity_score(y_testset, model_y_hat))"
   ]
  },
  {
   "cell_type": "code",
   "execution_count": 44,
   "metadata": {},
   "outputs": [
    {
     "name": "stdout",
     "output_type": "stream",
     "text": [
      "CLASSIFICATION REPORT:\n",
      "              precision    recall  f1-score   support\n",
      "\n",
      "          NO       0.65      0.99      0.78    763503\n",
      "         YES       0.38      0.01      0.01    416698\n",
      "\n",
      "    accuracy                           0.65   1180201\n",
      "   macro avg       0.51      0.50      0.40   1180201\n",
      "weighted avg       0.55      0.65      0.51   1180201\n",
      "\n"
     ]
    }
   ],
   "source": [
    "from sklearn.metrics import classification_report\n",
    "print(\"CLASSIFICATION REPORT:\")\n",
    "print(classification_report(y_testset, model_y_hat))"
   ]
  },
  {
   "cell_type": "code",
   "execution_count": 36,
   "metadata": {},
   "outputs": [
    {
     "name": "stdout",
     "output_type": "stream",
     "text": [
      "Logistic Regression's log loss:  0.6468285670982931\n"
     ]
    }
   ],
   "source": [
    "from sklearn.metrics import log_loss\n",
    "print(\"Logistic Regression's log loss: \",log_loss(y_testset, model_y_hat_prob))"
   ]
  },
  {
   "cell_type": "code",
   "execution_count": 45,
   "metadata": {},
   "outputs": [
    {
     "data": {
      "image/png": "[encoded data removed]",
      "text/plain": [
       "<Figure size 720x360 with 2 Axes>"
      ]
     },
     "metadata": {
      "needs_background": "light"
     },
     "output_type": "display_data"
    }
   ],
   "source": [
    "from sklearn.metrics import confusion_matrix\n",
    "\n",
    "# Function to plot the confusion matrix\n",
    "import itertools\n",
    "def plot_confusion_matrix(cm, classes,\n",
    "                          normalize=False,\n",
    "                          title='Confusion matrix',\n",
    "                          cmap=plt.cm.Blues):\n",
    "    \"\"\"\n",
    "    This function prints and plots the confusion matrix.\n",
    "    \"\"\"\n",
    "    plt.figure(figsize=(10,5))\n",
    "    plt.imshow(cm, interpolation='nearest', cmap=cmap)\n",
    "    plt.title(title)\n",
    "    plt.colorbar()\n",
    "    tick_marks = np.arange(len(classes))\n",
    "    plt.xticks(tick_marks, classes, rotation=45)\n",
    "    plt.yticks(tick_marks, classes)\n",
    "\n",
    "    fmt = '.2f' if normalize else 'd'\n",
    "    thresh = cm.max() / 2.\n",
    "    for i, j in itertools.product(range(cm.shape[0]), range(cm.shape[1])):\n",
    "        plt.text(j, i, format(cm[i, j], fmt),\n",
    "                 horizontalalignment=\"center\",\n",
    "                 color=\"white\" if cm[i, j] > thresh else \"black\")\n",
    "\n",
    "    plt.tight_layout()\n",
    "    plt.ylabel('True label',fontsize=12)\n",
    "    plt.xlabel('Predicted label',fontsize=12)\n",
    "    \n",
    "    plt.show()\n",
    "\n",
    "plot_confusion_matrix(confusion_matrix(y_testset, model_y_hat,labels=[\"YES\",\"NO\"]),classes=['HEATING','OTHERS'])"
   ]
  },
  {
   "cell_type": "markdown",
   "metadata": {},
   "source": [
    "**STEP 5 - CONCLUSIONS**"
   ]
  },
  {
   "cell_type": "markdown",
   "metadata": {},
   "source": [
    "Initially we have used a **Simple Linear Regression Model** and **Simple Polynomial Regression Model** to predict the number of heating complaints for the year 2020 based on a single variable (date).  The two models created have predicted 244,730 and 219,661 heating complaints respectively for 2020."
   ]
  },
  {
   "cell_type": "markdown",
   "metadata": {},
   "source": [
    "Finally we have create a predictive model to estimate the probability of a complaint to be heating or not. To do that we have used a **Logistic Regression Model**, using as independent variable the house characteristics observed in Question 3 (Building depth, Built far, Facil far, Number of floors, Resid far).  \n",
    "\n",
    "After evaulating the model created, we can conclude that our model can predict the probability of a complaint to be heating with an accuracy of 51%."
   ]
  },
  {
   "cell_type": "code",
   "execution_count": null,
   "metadata": {},
   "outputs": [],
   "source": []
  },
  {
   "cell_type": "code",
   "execution_count": null,
   "metadata": {},
   "outputs": [],
   "source": []
  },
  {
   "cell_type": "code",
   "execution_count": null,
   "metadata": {},
   "outputs": [],
   "source": [
    "df_time2 = df_time.to_frame().reset_index()\n",
    "\n",
    "df_time2.columns = ['Date','Complaints']"
   ]
  },
  {
   "cell_type": "code",
   "execution_count": null,
   "metadata": {},
   "outputs": [],
   "source": [
    "import datetime as dt"
   ]
  },
  {
   "cell_type": "code",
   "execution_count": null,
   "metadata": {},
   "outputs": [],
   "source": [
    "df_time2[\"Date\"] = pd.to_datetime(df_time2[\"Date\"])\n",
    "df_time2[\"Date\"] = df_time2[\"Date\"].map(dt.datetime.toordinal)"
   ]
  },
  {
   "cell_type": "code",
   "execution_count": null,
   "metadata": {},
   "outputs": [],
   "source": []
  },
  {
   "cell_type": "code",
   "execution_count": null,
   "metadata": {},
   "outputs": [],
   "source": []
  },
  {
   "cell_type": "code",
   "execution_count": null,
   "metadata": {},
   "outputs": [],
   "source": []
  },
  {
   "cell_type": "code",
   "execution_count": null,
   "metadata": {},
   "outputs": [],
   "source": []
  },
  {
   "cell_type": "code",
   "execution_count": null,
   "metadata": {},
   "outputs": [],
   "source": []
  },
  {
   "cell_type": "code",
   "execution_count": null,
   "metadata": {},
   "outputs": [],
   "source": []
  },
  {
   "cell_type": "code",
   "execution_count": null,
   "metadata": {},
   "outputs": [],
   "source": []
  },
  {
   "cell_type": "code",
   "execution_count": null,
   "metadata": {},
   "outputs": [],
   "source": []
  },
  {
   "cell_type": "code",
   "execution_count": null,
   "metadata": {},
   "outputs": [],
   "source": []
  },
  {
   "cell_type": "code",
   "execution_count": null,
   "metadata": {},
   "outputs": [],
   "source": []
  }
 ],
 "metadata": {
  "kernelspec": {
   "display_name": "Python 3",
   "language": "python",
   "name": "python3"
  },
  "language_info": {
   "codemirror_mode": {
    "name": "ipython",
    "version": 3
   },
   "file_extension": ".py",
   "mimetype": "text/x-python",
   "name": "python",
   "nbconvert_exporter": "python",
   "pygments_lexer": "ipython3",
   "version": "3.7.6"
  }
 },
 "nbformat": 4,
 "nbformat_minor": 4
}
